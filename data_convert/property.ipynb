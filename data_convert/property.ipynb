{
 "cells": [
  {
   "cell_type": "code",
   "execution_count": 5,
   "metadata": {
    "collapsed": true
   },
   "outputs": [],
   "source": [
    "import pandas as pd\n",
    "from math import e\n",
    "\n",
    "data = pd.read_table(\"延页2井标准.txt\", sep=\"\\s+\")\n",
    "data = data.round(3)\n",
    "depth = data['DEPTH']\n",
    "tp = data['AC']\n",
    "den = data['DEN']\n",
    "ts = tp/(1 - 1.15*( ( (1/den) + (1/den)**3 ) / (e**(1/den)) ))**1.5\n",
    "y_mod = (den/ts**2) * ( (3*ts**2 - 4*tp**2) / (ts**2 - tp**2) ) * 10**6\n",
    "p_ratio = (ts**2 - 2*tp**2) / (2 * (ts**2 - tp**2))\n",
    "\n",
    "data = list(zip(depth,y_mod,p_ratio))"
   ]
  },
  {
   "cell_type": "code",
   "execution_count": 19,
   "outputs": [
    {
     "data": {
      "text/plain": "               0\n0       1.177313\n1       1.179406\n2       1.181609\n3       1.183813\n4       1.186017\n...          ...\n20636  65.203781\n20637  65.207153\n20638  65.210563\n20639  65.214014\n20640  65.217493\n\n[20641 rows x 1 columns]",
      "text/html": "<div>\n<style scoped>\n    .dataframe tbody tr th:only-of-type {\n        vertical-align: middle;\n    }\n\n    .dataframe tbody tr th {\n        vertical-align: top;\n    }\n\n    .dataframe thead th {\n        text-align: right;\n    }\n</style>\n<table border=\"1\" class=\"dataframe\">\n  <thead>\n    <tr style=\"text-align: right;\">\n      <th></th>\n      <th>0</th>\n    </tr>\n  </thead>\n  <tbody>\n    <tr>\n      <th>0</th>\n      <td>1.177313</td>\n    </tr>\n    <tr>\n      <th>1</th>\n      <td>1.179406</td>\n    </tr>\n    <tr>\n      <th>2</th>\n      <td>1.181609</td>\n    </tr>\n    <tr>\n      <th>3</th>\n      <td>1.183813</td>\n    </tr>\n    <tr>\n      <th>4</th>\n      <td>1.186017</td>\n    </tr>\n    <tr>\n      <th>...</th>\n      <td>...</td>\n    </tr>\n    <tr>\n      <th>20636</th>\n      <td>65.203781</td>\n    </tr>\n    <tr>\n      <th>20637</th>\n      <td>65.207153</td>\n    </tr>\n    <tr>\n      <th>20638</th>\n      <td>65.210563</td>\n    </tr>\n    <tr>\n      <th>20639</th>\n      <td>65.214014</td>\n    </tr>\n    <tr>\n      <th>20640</th>\n      <td>65.217493</td>\n    </tr>\n  </tbody>\n</table>\n<p>20641 rows × 1 columns</p>\n</div>"
     },
     "execution_count": 19,
     "metadata": {},
     "output_type": "execute_result"
    }
   ],
   "source": [
    "import string\n",
    "handled_data = data[data[\"AC\"]>0][data[\"DEN\"]>1]\n",
    "den = handled_data[[\"DEPTH\", \"DEN\"]]\n",
    "delta_depth = den.iloc[100,0]-den.iloc[99,0]\n",
    "\n",
    "list1 = den[\"DEN\"].tolist()\n",
    "result = []\n",
    "for i in range(len(list1)):\n",
    "    if(i==0):\n",
    "        result.append(list1[i])\n",
    "    elif(i>0):\n",
    "        result.append(result[i-1]+list1[i])\n",
    "\n",
    "ver_p = [(x*delta_depth + 120*1)*9.8/1000 for x in result]\n",
    "ver_p = pd.DataFrame(ver_p)\n",
    "ver_p"
   ],
   "metadata": {
    "collapsed": false,
    "pycharm": {
     "name": "#%%\n"
    }
   }
  }
 ],
 "metadata": {
  "kernelspec": {
   "display_name": "Python 3",
   "language": "python",
   "name": "python3"
  },
  "language_info": {
   "codemirror_mode": {
    "name": "ipython",
    "version": 2
   },
   "file_extension": ".py",
   "mimetype": "text/x-python",
   "name": "python",
   "nbconvert_exporter": "python",
   "pygments_lexer": "ipython2",
   "version": "2.7.6"
  }
 },
 "nbformat": 4,
 "nbformat_minor": 0
}
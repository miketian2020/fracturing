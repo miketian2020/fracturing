{
 "cells": [
  {
   "cell_type": "code",
   "execution_count": 5,
   "metadata": {
    "collapsed": true,
    "pycharm": {
     "name": "#%%\n"
    }
   },
   "outputs": [
    {
     "data": {
      "text/plain": "0       -1.160940e+12\n1       -1.160940e+12\n2       -1.160940e+12\n3       -1.160940e+12\n4       -1.160940e+12\n             ...     \n20796    7.071095e+01\n20797    7.043931e+01\n20798    7.204222e+01\n20799    7.426818e+01\n20800    7.672887e+01\nName: 杨氏模量, Length: 20801, dtype: float64"
     },
     "execution_count": 5,
     "metadata": {},
     "output_type": "execute_result"
    }
   ],
   "source": [
    "import pandas as pd\n",
    "from math import e\n",
    "\n",
    "data = pd.read_table(\"延页2井标准.txt\", sep=\"\\s+\")\n",
    "\n",
    "depth = data['DEPTH']\n",
    "tp = data['AC']\n",
    "den = data['DEN']\n",
    "ts = tp/(1 - 1.15*( ( (1/den) + (1/den)**3 ) / (e**(1/den)) ))**1.5\n",
    "y_mod = (den/ts**2) * ( (3*ts**2 - 4*tp**2) / (ts**2 - tp**2) ) * 10**6\n",
    "p_ratio = (ts**2 - 2*tp**2) / (2 * (ts**2 - tp**2))\n",
    "\n",
    "handled_data = pd.DataFrame(list(zip(depth,y_mod,p_ratio)), columns=[\"深度\", \"杨氏模量\", \"泊松比\"])\n",
    "handled_data[\"杨氏模量\"]\n"
   ]
  }
 ],
 "metadata": {
  "kernelspec": {
   "display_name": "Python 3",
   "language": "python",
   "name": "python3"
  },
  "language_info": {
   "codemirror_mode": {
    "name": "ipython",
    "version": 2
   },
   "file_extension": ".py",
   "mimetype": "text/x-python",
   "name": "python",
   "nbconvert_exporter": "python",
   "pygments_lexer": "ipython2",
   "version": "2.7.6"
  }
 },
 "nbformat": 4,
 "nbformat_minor": 0
}
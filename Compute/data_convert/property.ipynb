{
 "cells": [
  {
   "cell_type": "code",
   "execution_count": 5,
   "metadata": {
    "collapsed": true
   },
   "outputs": [],
   "source": [
    "import pandas as pd\n",
    "from math import e\n",
    "\n",
    "data = pd.read_table(\"延页2井标准.txt\", sep=\"\\s+\")\n",
    "data = data.round(3)\n",
    "depth = data['DEPTH']\n",
    "tp = data['AC']\n",
    "den = data['DEN']\n",
    "ts = tp/(1 - 1.15*( ( (1/den) + (1/den)**3 ) / (e**(1/den)) ))**1.5\n",
    "y_mod = (den/ts**2) * ( (3*ts**2 - 4*tp**2) / (ts**2 - tp**2) ) * 10**6\n",
    "p_ratio = (ts**2 - 2*tp**2) / (2 * (ts**2 - tp**2))\n",
    "\n",
    "data = list(zip(depth,y_mod,p_ratio))"
   ]
  },
  {
   "cell_type": "code",
   "execution_count": 1,
   "outputs": [
    {
     "ename": "NameError",
     "evalue": "name 'data' is not defined",
     "output_type": "error",
     "traceback": [
      "\u001B[1;31m---------------------------------------------------------------------------\u001B[0m",
      "\u001B[1;31mNameError\u001B[0m                                 Traceback (most recent call last)",
      "\u001B[1;32m<ipython-input-1-c5567c6e09b7>\u001B[0m in \u001B[0;36m<module>\u001B[1;34m\u001B[0m\n\u001B[0;32m      1\u001B[0m \u001B[1;32mimport\u001B[0m \u001B[0mstring\u001B[0m\u001B[1;33m\u001B[0m\u001B[1;33m\u001B[0m\u001B[0m\n\u001B[1;32m----> 2\u001B[1;33m \u001B[0mhandled_data\u001B[0m \u001B[1;33m=\u001B[0m \u001B[0mdata\u001B[0m\u001B[1;33m[\u001B[0m\u001B[0mdata\u001B[0m\u001B[1;33m[\u001B[0m\u001B[1;34m\"AC\"\u001B[0m\u001B[1;33m]\u001B[0m\u001B[1;33m>\u001B[0m\u001B[1;36m0\u001B[0m\u001B[1;33m]\u001B[0m\u001B[1;33m[\u001B[0m\u001B[0mdata\u001B[0m\u001B[1;33m[\u001B[0m\u001B[1;34m\"DEN\"\u001B[0m\u001B[1;33m]\u001B[0m\u001B[1;33m>\u001B[0m\u001B[1;36m1\u001B[0m\u001B[1;33m]\u001B[0m\u001B[1;33m\u001B[0m\u001B[1;33m\u001B[0m\u001B[0m\n\u001B[0m\u001B[0;32m      3\u001B[0m \u001B[0mden\u001B[0m \u001B[1;33m=\u001B[0m \u001B[0mhandled_data\u001B[0m\u001B[1;33m[\u001B[0m\u001B[1;33m[\u001B[0m\u001B[1;34m\"DEPTH\"\u001B[0m\u001B[1;33m,\u001B[0m \u001B[1;34m\"DEN\"\u001B[0m\u001B[1;33m]\u001B[0m\u001B[1;33m]\u001B[0m\u001B[1;33m\u001B[0m\u001B[1;33m\u001B[0m\u001B[0m\n\u001B[0;32m      4\u001B[0m \u001B[0mdelta_depth\u001B[0m \u001B[1;33m=\u001B[0m \u001B[0mden\u001B[0m\u001B[1;33m.\u001B[0m\u001B[0miloc\u001B[0m\u001B[1;33m[\u001B[0m\u001B[1;36m100\u001B[0m\u001B[1;33m,\u001B[0m\u001B[1;36m0\u001B[0m\u001B[1;33m]\u001B[0m\u001B[1;33m-\u001B[0m\u001B[0mden\u001B[0m\u001B[1;33m.\u001B[0m\u001B[0miloc\u001B[0m\u001B[1;33m[\u001B[0m\u001B[1;36m99\u001B[0m\u001B[1;33m,\u001B[0m\u001B[1;36m0\u001B[0m\u001B[1;33m]\u001B[0m\u001B[1;33m\u001B[0m\u001B[1;33m\u001B[0m\u001B[0m\n\u001B[0;32m      5\u001B[0m \u001B[1;33m\u001B[0m\u001B[0m\n",
      "\u001B[1;31mNameError\u001B[0m: name 'data' is not defined"
     ]
    }
   ],
   "source": [
    "import string\n",
    "handled_data = data[data[\"AC\"]>0][data[\"DEN\"]>1]\n",
    "den = handled_data[[\"DEPTH\", \"DEN\"]]\n",
    "delta_depth = den.iloc[100,0]-den.iloc[99,0]\n",
    "\n",
    "list1 = den[\"DEN\"].tolist()\n",
    "result = []\n",
    "for i in range(len(list1)):\n",
    "    if(i==0):\n",
    "        result.append(list1[i])\n",
    "    elif(i>0):\n",
    "        result.append(result[i-1]+list1[i])\n",
    "\n",
    "ver_p = [(x*delta_depth + 120*1)*9.8/1000 for x in result]\n",
    "ver_p = pd.DataFrame(ver_p)\n",
    "ver_p"
   ],
   "metadata": {
    "collapsed": false,
    "pycharm": {
     "name": "#%%\n"
    }
   }
  }
 ],
 "metadata": {
  "kernelspec": {
   "display_name": "Python 3",
   "language": "python",
   "name": "python3"
  },
  "language_info": {
   "codemirror_mode": {
    "name": "ipython",
    "version": 2
   },
   "file_extension": ".py",
   "mimetype": "text/x-python",
   "name": "python",
   "nbconvert_exporter": "python",
   "pygments_lexer": "ipython2",
   "version": "2.7.6"
  }
 },
 "nbformat": 4,
 "nbformat_minor": 0
}